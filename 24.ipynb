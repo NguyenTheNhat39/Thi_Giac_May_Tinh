{
 "cells": [
  {
   "cell_type": "code",
   "execution_count": 3,
   "id": "5afca62c-2531-41af-aee8-958de56e6a36",
   "metadata": {},
   "outputs": [],
   "source": [
    "import cv2\n",
    "import time"
   ]
  },
  {
   "cell_type": "code",
   "execution_count": 5,
   "id": "35b4c984-8a6b-4ef0-8561-03d6a4822d19",
   "metadata": {},
   "outputs": [],
   "source": [
    "# Đọc video từ file\n",
    "camera = cv2.VideoCapture(0)"
   ]
  },
  {
   "cell_type": "code",
   "execution_count": 6,
   "id": "2ee0a995-e3f7-4e15-9314-212fc6b16748",
   "metadata": {},
   "outputs": [],
   "source": [
    "# Tạo cửa sổ để hiển thị\n",
    "cv2.namedWindow('Video Player', cv2.WINDOW_NORMAL)\n",
    "# \n",
    "interval = 20\n",
    "count = 0"
   ]
  },
  {
   "cell_type": "code",
   "execution_count": 7,
   "id": "abcfd6d5-fc67-4022-99d3-f82a2c7735d9",
   "metadata": {},
   "outputs": [],
   "source": [
    "# Ghi text trên hình ảnh\n",
    "font = cv2.FONT_HERSHEY_SIMPLEX\n",
    "font_color = (255, 255, 255)\n",
    "font_scale = 1\n",
    "font_thicknes = 2"
   ]
  },
  {
   "cell_type": "code",
   "execution_count": 11,
   "id": "2f78ab13-2720-47d0-b20e-0c452b163a9e",
   "metadata": {},
   "outputs": [],
   "source": [
    "# Hiển thị từng khung ảnh\n",
    "while True:\n",
    "    # Thời gian trước khi đọc\n",
    "    start_time = time.time()\n",
    "    # Đọc 1 frame\n",
    "    ret, frame = camera.read()\n",
    "    # Thoát khi không thể đọc được frame\n",
    "    if not ret:\n",
    "        break\n",
    "    # Tăng count + 1\n",
    "    count = count + 1\n",
    "    # Định kỳ lưu ảnh xuống\n",
    "    if(count%interval==0):\n",
    "        cv2.imwrite(f'D:/anhnhandien/image_{count}.jpg', frame)\n",
    "        \n",
    "    # Thời gian trước khi đọc\n",
    "    end_time = time.time()    \n",
    "    # Tình FPS:\n",
    "    fps = 1/(end_time-start_time)\n",
    "    # Ghi số lượng fps\n",
    "    cv2.putText(frame, f'FPS: {fps:.2f}', (100, 100), font, font_scale, font_color , font_thicknes)\n",
    "    # Hiển thị\n",
    "    cv2.imshow('Video Player', frame)\n",
    "    if(cv2.waitKey(10)==ord('q')):\n",
    "        break\n"
   ]
  },
  {
   "cell_type": "code",
   "execution_count": 13,
   "id": "72808001-51ee-45f9-9e02-1468aa956af5",
   "metadata": {},
   "outputs": [],
   "source": [
    "# Hủy bỏ player\n",
    "camera.release()\n",
    "cv2.destroyAllWindows()"
   ]
  },
  {
   "cell_type": "code",
   "execution_count": null,
   "id": "ad2e8ea4-909c-4852-a774-2360d37f4653",
   "metadata": {},
   "outputs": [],
   "source": []
  }
 ],
 "metadata": {
  "kernelspec": {
   "display_name": "Python 3 (ipykernel)",
   "language": "python",
   "name": "python3"
  },
  "language_info": {
   "codemirror_mode": {
    "name": "ipython",
    "version": 3
   },
   "file_extension": ".py",
   "mimetype": "text/x-python",
   "name": "python",
   "nbconvert_exporter": "python",
   "pygments_lexer": "ipython3",
   "version": "3.12.4"
  }
 },
 "nbformat": 4,
 "nbformat_minor": 5
}
