{
 "cells": [
  {
   "cell_type": "code",
   "execution_count": 1,
   "id": "3fda1863-a7dd-4169-b976-fc0ffe8628d9",
   "metadata": {},
   "outputs": [
    {
     "name": "stdout",
     "output_type": "stream",
     "text": [
      "Defaulting to user installation because normal site-packages is not writeable\n",
      "Collecting opencv-python\n",
      "  Downloading opencv_python-4.10.0.84-cp37-abi3-win_amd64.whl.metadata (20 kB)\n",
      "Requirement already satisfied: numpy>=1.21.2 in c:\\programdata\\anaconda3\\lib\\site-packages (from opencv-python) (1.26.4)\n",
      "Downloading opencv_python-4.10.0.84-cp37-abi3-win_amd64.whl (38.8 MB)\n",
      "   ---------------------------------------- 0.0/38.8 MB ? eta -:--:--\n",
      "    --------------------------------------- 0.8/38.8 MB 6.7 MB/s eta 0:00:06\n",
      "   -- ------------------------------------- 2.9/38.8 MB 8.4 MB/s eta 0:00:05\n",
      "   ---- ----------------------------------- 4.7/38.8 MB 8.4 MB/s eta 0:00:05\n",
      "   ------- -------------------------------- 6.8/38.8 MB 8.7 MB/s eta 0:00:04\n",
      "   -------- ------------------------------- 8.7/38.8 MB 9.0 MB/s eta 0:00:04\n",
      "   ---------- ----------------------------- 10.0/38.8 MB 8.4 MB/s eta 0:00:04\n",
      "   ----------- ---------------------------- 11.0/38.8 MB 7.9 MB/s eta 0:00:04\n",
      "   ------------- -------------------------- 12.8/38.8 MB 7.9 MB/s eta 0:00:04\n",
      "   --------------- ------------------------ 14.9/38.8 MB 8.1 MB/s eta 0:00:03\n",
      "   ----------------- ---------------------- 16.5/38.8 MB 8.1 MB/s eta 0:00:03\n",
      "   ------------------- -------------------- 18.6/38.8 MB 8.2 MB/s eta 0:00:03\n",
      "   -------------------- ------------------- 20.2/38.8 MB 8.2 MB/s eta 0:00:03\n",
      "   ---------------------- ----------------- 21.8/38.8 MB 8.2 MB/s eta 0:00:03\n",
      "   ------------------------ --------------- 23.6/38.8 MB 8.2 MB/s eta 0:00:02\n",
      "   -------------------------- ------------- 25.7/38.8 MB 8.3 MB/s eta 0:00:02\n",
      "   ---------------------------- ----------- 28.0/38.8 MB 8.2 MB/s eta 0:00:02\n",
      "   ------------------------------ --------- 29.9/38.8 MB 8.2 MB/s eta 0:00:02\n",
      "   -------------------------------- ------- 32.0/38.8 MB 8.3 MB/s eta 0:00:01\n",
      "   ---------------------------------- ----- 33.3/38.8 MB 8.3 MB/s eta 0:00:01\n",
      "   ----------------------------------- ---- 34.9/38.8 MB 8.2 MB/s eta 0:00:01\n",
      "   -------------------------------------- - 37.0/38.8 MB 8.2 MB/s eta 0:00:01\n",
      "   ---------------------------------------  38.8/38.8 MB 8.3 MB/s eta 0:00:01\n",
      "   ---------------------------------------  38.8/38.8 MB 8.3 MB/s eta 0:00:01\n",
      "   ---------------------------------------- 38.8/38.8 MB 7.7 MB/s eta 0:00:00\n",
      "Installing collected packages: opencv-python\n",
      "Successfully installed opencv-python-4.10.0.84\n"
     ]
    }
   ],
   "source": [
    "#!pip install opencv-python"
   ]
  },
  {
   "cell_type": "code",
   "execution_count": 5,
   "id": "d614090d-4a43-445a-a28d-17c30f65b208",
   "metadata": {},
   "outputs": [],
   "source": [
    "def display(title, img):\n",
    "    cv2.imshow(title, img)\n",
    "    # Chờ một khoảng thời gian\n",
    "    cv2.waitKey(0)\n",
    "    # Đóng window\n",
    "    cv2.destroyWindow(title)"
   ]
  },
  {
   "cell_type": "code",
   "execution_count": 7,
   "id": "ed876b14-a3e5-4779-a1fd-f47e2047ba3d",
   "metadata": {},
   "outputs": [],
   "source": [
    "import cv2"
   ]
  },
  {
   "cell_type": "code",
   "execution_count": 27,
   "id": "5ec56ba0-e809-4d10-a2a1-241223534965",
   "metadata": {},
   "outputs": [
    {
     "name": "stdout",
     "output_type": "stream",
     "text": [
      "[[[208 218 228]\n",
      "  [208 218 228]\n",
      "  [208 218 228]\n",
      "  ...\n",
      "  [187 199 223]\n",
      "  [187 199 223]\n",
      "  [187 199 223]]\n",
      "\n",
      " [[208 218 228]\n",
      "  [208 218 228]\n",
      "  [208 218 228]\n",
      "  ...\n",
      "  [187 199 223]\n",
      "  [187 199 223]\n",
      "  [187 199 223]]\n",
      "\n",
      " [[208 218 228]\n",
      "  [208 218 228]\n",
      "  [208 218 228]\n",
      "  ...\n",
      "  [187 199 223]\n",
      "  [187 199 223]\n",
      "  [187 199 223]]\n",
      "\n",
      " ...\n",
      "\n",
      " [[201 213 223]\n",
      "  [239 239 239]\n",
      "  [239 239 239]\n",
      "  ...\n",
      "  [201 213 223]\n",
      "  [201 213 223]\n",
      "  [201 213 223]]\n",
      "\n",
      " [[201 213 223]\n",
      "  [201 213 223]\n",
      "  [201 213 223]\n",
      "  ...\n",
      "  [201 213 223]\n",
      "  [201 213 223]\n",
      "  [201 213 223]]\n",
      "\n",
      " [[201 214 222]\n",
      "  [201 214 222]\n",
      "  [201 214 222]\n",
      "  ...\n",
      "  [201 214 222]\n",
      "  [201 214 222]\n",
      "  [201 214 222]]]\n"
     ]
    }
   ],
   "source": [
    "# Đọc một ảnh (nhan TAB de nhin autocomplete)\n",
    "path= 'D:/anh/01.png'\n",
    "img = cv2.imread(path)\n",
    "# In thông tin của ảnh\n",
    "print(img)"
   ]
  },
  {
   "cell_type": "code",
   "execution_count": 29,
   "id": "ee9e4ada-bf67-4203-a148-e5622f36d296",
   "metadata": {},
   "outputs": [
    {
     "name": "stdout",
     "output_type": "stream",
     "text": [
      "(453, 679, 3)\n",
      "453\n",
      "679\n",
      "3\n"
     ]
    }
   ],
   "source": [
    "# Lấy kích thước\n",
    "print(img.shape)\n",
    "x, y, z = img.shape\n",
    "print(x)\n",
    "print(y)\n",
    "print(z)"
   ]
  },
  {
   "cell_type": "code",
   "execution_count": null,
   "id": "3a72d38b-7b5c-472c-9e61-8fcdcae0e31c",
   "metadata": {},
   "outputs": [],
   "source": [
    "# Hiển thị ảnh\n",
    "cv2.imshow('Window', img)\n",
    "# Chờ một khoảng thời gian\n",
    "cv2.waitKey(10000)\n",
    "# Đóng window\n",
    "cv2.destroyWindow('Window')"
   ]
  },
  {
   "cell_type": "code",
   "execution_count": 41,
   "id": "bdb3ed77-d254-46d5-a6f0-5938c751b0cc",
   "metadata": {},
   "outputs": [],
   "source": [
    "# Tách màu\n",
    "b, g, r = cv2.split(img)\n",
    "cv2.imshow('Window', img)\n",
    "cv2.imshow('Red', r)\n",
    "cv2.imshow('Green', g)\n",
    "cv2.imshow('Blue', b)\n",
    "\n",
    "# Chờ một khoảng thời gian\n",
    "cv2.waitKey(0)\n",
    "# Đóng window\n",
    "cv2.destroyAllWindows()"
   ]
  },
  {
   "cell_type": "code",
   "execution_count": 43,
   "id": "30398a40-f9e3-4fa0-a851-a20c561f5cc1",
   "metadata": {},
   "outputs": [],
   "source": [
    "gray_img = cv2.cvtColor(img, cv2.COLOR_BGR2GRAY)\n",
    "img_2 = cv2.cvtColor(img, cv2.COLOR_BGR2RGB)\n",
    "cv2.imshow('Window', img)\n",
    "cv2.imshow('gray_img', gray_img)\n",
    "cv2.imshow('img_2', img_2)\n",
    "# Chờ một khoảng thời gian\n",
    "cv2.waitKey(0)\n",
    "# Đóng window\n",
    "cv2.destroyAllWindows()"
   ]
  },
  {
   "cell_type": "code",
   "execution_count": null,
   "id": "aa799832-f8db-4b05-8c46-ccad3ea7b8f7",
   "metadata": {},
   "outputs": [],
   "source": [
    "# Thay đổi thông số của điểm ảnh\n",
    "height, width, z = img.shape\n",
    "quater_h = height/2\n",
    "quater_w = width/2\n",
    "\n",
    "# geen color\n",
    "green_color = (0,255,0)\n",
    "\n",
    "# copy ảnh\n",
    "img2 = img.copy()\n",
    "\n",
    "# thay đổi màu của góc 1/4 bên trái trên\n",
    "\n",
    "for y in range(int(quater_h)):\n",
    "    for x in range(int(quater_w)):\n",
    "        img2[y, x] = green_color\n",
    "# Hiển thị\n",
    "display('Window', img)\n",
    "display('Window-2', img2)"
   ]
  },
  {
   "cell_type": "code",
   "execution_count": null,
   "id": "ed42d707-cd80-4d50-8082-e21419d63885",
   "metadata": {},
   "outputs": [],
   "source": []
  }
 ],
 "metadata": {
  "kernelspec": {
   "display_name": "Python 3 (ipykernel)",
   "language": "python",
   "name": "python3"
  },
  "language_info": {
   "codemirror_mode": {
    "name": "ipython",
    "version": 3
   },
   "file_extension": ".py",
   "mimetype": "text/x-python",
   "name": "python",
   "nbconvert_exporter": "python",
   "pygments_lexer": "ipython3",
   "version": "3.12.4"
  }
 },
 "nbformat": 4,
 "nbformat_minor": 5
}
