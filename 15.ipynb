{
 "cells": [
  {
   "cell_type": "code",
   "execution_count": 2,
   "id": "229f0e7d-c504-4ff0-8c2d-1a04620df3dc",
   "metadata": {},
   "outputs": [],
   "source": [
    "# Giải hệ phương trình tuyến tính\n",
    "# !pip install scipy\n",
    "from scipy import linalg\n",
    "import numpy as np"
   ]
  },
  {
   "cell_type": "code",
   "execution_count": 4,
   "id": "8dac2560-c769-40a5-a272-693722febbec",
   "metadata": {},
   "outputs": [],
   "source": [
    "# Định nghĩa hệ phương trình tuyến tính\n",
    "A = np.array([[4, 1],[3, 2]])\n",
    "b = np.array([6,8])"
   ]
  },
  {
   "cell_type": "code",
   "execution_count": 6,
   "id": "cc1e0f8a-6cd7-49da-9cff-53841e4ecf76",
   "metadata": {},
   "outputs": [
    {
     "name": "stdout",
     "output_type": "stream",
     "text": [
      "Kết quả:  [0.8 2.8]\n"
     ]
    }
   ],
   "source": [
    "# Giải hệ phương trình tuyến tính\n",
    "x = linalg.solve(A, b)\n",
    "print(\"Kết quả: \", x)"
   ]
  },
  {
   "cell_type": "code",
   "execution_count": 8,
   "id": "d9368f69-6d82-4fac-b90b-3cd5b80ffd55",
   "metadata": {},
   "outputs": [],
   "source": [
    "# Tính tích phân của một hàm số\n",
    "from scipy import integrate\n"
   ]
  },
  {
   "cell_type": "code",
   "execution_count": 10,
   "id": "18d66bf9-b8da-4220-9b58-54ec178505f1",
   "metadata": {},
   "outputs": [],
   "source": [
    "# Định nghĩa hàm f(x) = x^4\n",
    "def my_function(x):\n",
    "    return x**2"
   ]
  },
  {
   "cell_type": "code",
   "execution_count": 12,
   "id": "44220379-7e70-4f73-9bba-c6e798d9df2a",
   "metadata": {},
   "outputs": [
    {
     "name": "stdout",
     "output_type": "stream",
     "text": [
      "Tích phân f(x) từ 0 đến 1:  (0.33333333333333337, 3.700743415417189e-15)\n"
     ]
    }
   ],
   "source": [
    "# Tính tích phân của f(x) từ 0 đến 1\n",
    "integral = integrate.quad(my_function, 0, 1);\n",
    "print(\"Tích phân f(x) từ 0 đến 1: \", integral)"
   ]
  },
  {
   "cell_type": "code",
   "execution_count": 14,
   "id": "27f7705f-446c-4c7b-a05d-42ab46123268",
   "metadata": {},
   "outputs": [],
   "source": [
    "# !pip install scipy\n",
    "from scipy import linalg\n",
    "import numpy as np"
   ]
  },
  {
   "cell_type": "code",
   "execution_count": 16,
   "id": "75e9ccba-9a90-42e4-9c4f-2e5418717748",
   "metadata": {},
   "outputs": [],
   "source": [
    "# Tính giá trị riêng và vector riêng của một ma trận:\n",
    "A = np.array([[4,1], [2,2]])\n"
   ]
  },
  {
   "cell_type": "code",
   "execution_count": 18,
   "id": "8885e677-6560-41cf-be7f-b1519707e2e7",
   "metadata": {},
   "outputs": [
    {
     "name": "stdout",
     "output_type": "stream",
     "text": [
      "Giá trị riêng:  [4.73205081+0.j 1.26794919+0.j]\n",
      "Vector riêng:  [[ 0.80689822 -0.34372377]\n",
      " [ 0.59069049  0.9390708 ]]\n"
     ]
    }
   ],
   "source": [
    "# Tính giá trị riêng và vector riêng của ma trận\n",
    "evals, evecs = linalg.eig(A)\n",
    "\n",
    "print(\"Giá trị riêng: \", evals)\n",
    "print(\"Vector riêng: \", evecs)"
   ]
  },
  {
   "cell_type": "code",
   "execution_count": null,
   "id": "30ad0163-ea2b-4695-a42c-cd62437ecb86",
   "metadata": {},
   "outputs": [],
   "source": []
  }
 ],
 "metadata": {
  "kernelspec": {
   "display_name": "Python 3 (ipykernel)",
   "language": "python",
   "name": "python3"
  },
  "language_info": {
   "codemirror_mode": {
    "name": "ipython",
    "version": 3
   },
   "file_extension": ".py",
   "mimetype": "text/x-python",
   "name": "python",
   "nbconvert_exporter": "python",
   "pygments_lexer": "ipython3",
   "version": "3.12.4"
  }
 },
 "nbformat": 4,
 "nbformat_minor": 5
}
