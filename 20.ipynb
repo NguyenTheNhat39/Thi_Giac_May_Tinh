{
 "cells": [
  {
   "cell_type": "code",
   "execution_count": 1,
   "id": "378d4208-7e01-4d52-8a2d-70a35a171ddf",
   "metadata": {},
   "outputs": [],
   "source": [
    "import cv2\n",
    "import numpy as np"
   ]
  },
  {
   "cell_type": "code",
   "execution_count": 25,
   "id": "0618e944-7f22-45a8-bedd-2ee29dc9d143",
   "metadata": {},
   "outputs": [],
   "source": [
    "def display(title, img):\n",
    "    cv2.imshow(title, img)\n",
    "    # Chờ một khoảng thời gian\n",
    "    cv2.waitKey(0)\n",
    "    # Đóng window\n",
    "    cv2.destroyWindow(title)"
   ]
  },
  {
   "cell_type": "code",
   "execution_count": 41,
   "id": "b008bb3b-fd33-4faa-94e8-fd4f946354a9",
   "metadata": {},
   "outputs": [],
   "source": [
    "img = np.zeros((400, 600, 3), dtype=np.uint8)\n",
    "img[:] = (0, 0, 255) "
   ]
  },
  {
   "cell_type": "code",
   "execution_count": null,
   "id": "860084e7-b05c-4b16-a6fd-633cd125bf60",
   "metadata": {},
   "outputs": [],
   "source": [
    "center = (300, 200)  \n",
    "size = 80  \n",
    "inner_radius = outer_radius * 0.38 "
   ]
  },
  {
   "cell_type": "code",
   "execution_count": null,
   "id": "1c8a8b4b-faba-4e64-8948-f23dea220259",
   "metadata": {},
   "outputs": [],
   "source": [
    "pts = []\n",
    "for i in range(5):\n",
    "    outer_angle = i * 2 * np.pi / 5 - np.pi / 2 \n",
    "    inner_angle = outer_angle + np.pi / 5 \n",
    "\n",
    "    # Điểm ngoài\n",
    "    pts.append((int(center[0] + outer_radius * np.cos(outer_angle)), \n",
    "                int(center[1] + outer_radius * np.sin(outer_angle))))\n",
    "    \n",
    "    # Điểm trong\n",
    "    pts.append((int(center[0] + inner_radius * np.cos(inner_angle)), \n",
    "                int(center[1] + inner_radius * np.sin(inner_angle))))\n",
    "\n",
    "pts = np.array(pts, np.int32).reshape((-1, 1, 2))"
   ]
  },
  {
   "cell_type": "code",
   "execution_count": null,
   "id": "0596432f-ed81-4f34-9d86-8ec9eeb2de5d",
   "metadata": {},
   "outputs": [],
   "source": [
    "cv2.polylines(img, [pts], True, (0, 255, 255), thickness=3)"
   ]
  },
  {
   "cell_type": "code",
   "execution_count": 56,
   "id": "8b1508e2-588e-4400-b816-6d8ead52806e",
   "metadata": {},
   "outputs": [
    {
     "ename": "error",
     "evalue": "OpenCV(4.10.0) D:\\a\\opencv-python\\opencv-python\\opencv\\modules\\highgui\\src\\window_w32.cpp:1261: error: (-27:Null pointer) NULL window: 'Cờ Việt Nam' in function 'cvDestroyWindow'\n",
     "output_type": "error",
     "traceback": [
      "\u001b[1;31m---------------------------------------------------------------------------\u001b[0m",
      "\u001b[1;31merror\u001b[0m                                     Traceback (most recent call last)",
      "Cell \u001b[1;32mIn[56], line 1\u001b[0m\n\u001b[1;32m----> 1\u001b[0m display(\u001b[38;5;124m'\u001b[39m\u001b[38;5;124mCờ Việt Nam\u001b[39m\u001b[38;5;124m'\u001b[39m, img)\n",
      "Cell \u001b[1;32mIn[25], line 6\u001b[0m, in \u001b[0;36mdisplay\u001b[1;34m(title, img)\u001b[0m\n\u001b[0;32m      4\u001b[0m cv2\u001b[38;5;241m.\u001b[39mwaitKey(\u001b[38;5;241m0\u001b[39m)\n\u001b[0;32m      5\u001b[0m \u001b[38;5;66;03m# Đóng window\u001b[39;00m\n\u001b[1;32m----> 6\u001b[0m cv2\u001b[38;5;241m.\u001b[39mdestroyWindow(title)\n",
      "\u001b[1;31merror\u001b[0m: OpenCV(4.10.0) D:\\a\\opencv-python\\opencv-python\\opencv\\modules\\highgui\\src\\window_w32.cpp:1261: error: (-27:Null pointer) NULL window: 'Cờ Việt Nam' in function 'cvDestroyWindow'\n"
     ]
    }
   ],
   "source": [
    "display('Cờ Việt Nam', img)"
   ]
  },
  {
   "cell_type": "code",
   "execution_count": null,
   "id": "87316edf-2fd7-4c7a-a964-d9790908a8a2",
   "metadata": {},
   "outputs": [],
   "source": []
  }
 ],
 "metadata": {
  "kernelspec": {
   "display_name": "Python 3 (ipykernel)",
   "language": "python",
   "name": "python3"
  },
  "language_info": {
   "codemirror_mode": {
    "name": "ipython",
    "version": 3
   },
   "file_extension": ".py",
   "mimetype": "text/x-python",
   "name": "python",
   "nbconvert_exporter": "python",
   "pygments_lexer": "ipython3",
   "version": "3.12.4"
  }
 },
 "nbformat": 4,
 "nbformat_minor": 5
}
